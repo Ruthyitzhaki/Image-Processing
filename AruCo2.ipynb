{
  "nbformat": 4,
  "nbformat_minor": 0,
  "metadata": {
    "colab": {
      "provenance": [],
      "include_colab_link": true
    },
    "kernelspec": {
      "name": "python3",
      "display_name": "Python 3"
    },
    "language_info": {
      "name": "python"
    }
  },
  "cells": [
    {
      "cell_type": "markdown",
      "metadata": {
        "id": "view-in-github",
        "colab_type": "text"
      },
      "source": [
        "<a href=\"https://colab.research.google.com/github/Ruthyitzhaki/Image-Processing/blob/main/AruCo2.ipynb\" target=\"_parent\"><img src=\"https://colab.research.google.com/assets/colab-badge.svg\" alt=\"Open In Colab\"/></a>"
      ]
    },
    {
      "cell_type": "code",
      "execution_count": null,
      "metadata": {
        "id": "w9kCMCG1H-SU"
      },
      "outputs": [],
      "source": [
        "image = Image.open(r'...\\Insights_Bees_logo.png') #Brand logo image (optional)\n",
        "\n",
        "#Create two columns with different width\n",
        "col1, col2 = st.columns( [0.8, 0.2])\n",
        "with col1:               # To display the header text using css style\n",
        "    st.markdown(\"\"\" <style> .font {\n",
        "    font-size:35px ; font-family: 'Cooper Black'; color: #FF9633;} \n",
        "    </style> \"\"\", unsafe_allow_html=True)\n",
        "    st.markdown('<p class=\"font\">Upload your photo here...</p>', unsafe_allow_html=True)\n",
        "    \n",
        "with col2:               # To display brand logo\n",
        "    st.image(image,  width=150)"
      ]
    },
    {
      "cell_type": "code",
      "source": [
        "st.sidebar.markdown('<p class=\"font\">My First Photo Converter App</p>', unsafe_allow_html=True)\n",
        "with st.sidebar.expander(\"About the App\"):\n",
        "     st.write(\"\"\"\n",
        "        Use this simple app to convert your favorite photo to a pencil sketch, a grayscale image or an image with blurring effect.  \\n  \\nThis app was created by Sharone Li as a side project to learn Streamlit and computer vision. Hope you enjoy!\n",
        "     \"\"\")"
      ],
      "metadata": {
        "id": "Uptr2qnSJkUP"
      },
      "execution_count": null,
      "outputs": []
    }
  ]
}